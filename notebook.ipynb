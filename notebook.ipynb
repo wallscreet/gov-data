{
 "cells": [
  {
   "cell_type": "code",
   "execution_count": null,
   "id": "93a7e8aa",
   "metadata": {},
   "outputs": [],
   "source": [
    "import pandas as pd\n",
    "from fredapi import Fred\n",
    "from dotenv import load_dotenv\n",
    "import os\n",
    "import json\n",
    "\n",
    "load_dotenv()\n",
    "\n",
    "FRED_API_KEY = os.getenv(\"FRED_API_KEY\")\n",
    "\n",
    "fred = Fred(api_key=FRED_API_KEY)"
   ]
  },
  {
   "cell_type": "code",
   "execution_count": null,
   "id": "0f10a30b",
   "metadata": {},
   "outputs": [],
   "source": [
    "def series_to_json(series, df):\n",
    "    \"\"\"\n",
    "    Convert a FRED series to a JSON string.\n",
    "    \"\"\"\n",
    "    path = f\"datasets/fred_{series}.json\"\n",
    "    # If file exists, load and merge\n",
    "    if os.path.exists(path):\n",
    "        # Load existing data\n",
    "        with open(path, \"r\") as f:\n",
    "            existing_data = json.load(f)\n",
    "        df_existing = pd.DataFrame(existing_data)\n",
    "        df_existing[\"Date\"] = pd.to_datetime(df_existing[\"Date\"])\n",
    "\n",
    "        # Append only new rows\n",
    "        df_combined = pd.concat([df_existing, df])\n",
    "        df_combined = df_combined.drop_duplicates(subset=[\"Date\"]).sort_values(\"Date\")\n",
    "    else:\n",
    "        # No file exists, use fresh data\n",
    "        df_combined = df\n",
    "\n",
    "    # Save to JSON\n",
    "    df_combined.to_json(path, orient=\"records\", date_format=\"iso\")\n",
    "\n",
    "    print(f\"Updated data saved to {path}\")"
   ]
  },
  {
   "cell_type": "code",
   "execution_count": 14,
   "id": "987efde0",
   "metadata": {},
   "outputs": [
    {
     "data": {
      "text/html": [
       "<div>\n",
       "<style scoped>\n",
       "    .dataframe tbody tr th:only-of-type {\n",
       "        vertical-align: middle;\n",
       "    }\n",
       "\n",
       "    .dataframe tbody tr th {\n",
       "        vertical-align: top;\n",
       "    }\n",
       "\n",
       "    .dataframe thead th {\n",
       "        text-align: right;\n",
       "    }\n",
       "</style>\n",
       "<table border=\"1\" class=\"dataframe\">\n",
       "  <thead>\n",
       "    <tr style=\"text-align: right;\">\n",
       "      <th></th>\n",
       "      <th>Year</th>\n",
       "      <th>Median Sales Price</th>\n",
       "    </tr>\n",
       "  </thead>\n",
       "  <tbody>\n",
       "    <tr>\n",
       "      <th>58</th>\n",
       "      <td>2021</td>\n",
       "      <td>383000.0</td>\n",
       "    </tr>\n",
       "    <tr>\n",
       "      <th>59</th>\n",
       "      <td>2022</td>\n",
       "      <td>432950.0</td>\n",
       "    </tr>\n",
       "    <tr>\n",
       "      <th>60</th>\n",
       "      <td>2023</td>\n",
       "      <td>426525.0</td>\n",
       "    </tr>\n",
       "    <tr>\n",
       "      <th>61</th>\n",
       "      <td>2024</td>\n",
       "      <td>418975.0</td>\n",
       "    </tr>\n",
       "    <tr>\n",
       "      <th>62</th>\n",
       "      <td>2025</td>\n",
       "      <td>416950.0</td>\n",
       "    </tr>\n",
       "  </tbody>\n",
       "</table>\n",
       "</div>"
      ],
      "text/plain": [
       "    Year  Median Sales Price\n",
       "58  2021            383000.0\n",
       "59  2022            432950.0\n",
       "60  2023            426525.0\n",
       "61  2024            418975.0\n",
       "62  2025            416950.0"
      ]
     },
     "execution_count": 14,
     "metadata": {},
     "output_type": "execute_result"
    }
   ],
   "source": [
    "# Median Home Price\n",
    "# Fred series MSPUS\n",
    "median_home_prices = fred.get_series('MSPUS')\n",
    "df_home_median_prices = median_home_prices.to_frame().reset_index()\n",
    "df_home_median_prices.columns = ['Date', 'Median Sales Price']\n",
    "df_home_median_prices['Date'] = pd.to_datetime(df_home_median_prices['Date'])\n",
    "df_home_median_prices.set_index('Date', inplace=True)\n",
    "\n",
    "df_home_median_prices_annual = df_home_median_prices.resample('YE').mean()\n",
    "df_home_median_prices_annual.index = df_home_median_prices_annual.index.year\n",
    "df_home_median_prices_annual.reset_index(inplace=True)\n",
    "df_home_median_prices_annual.columns = ['Year', 'Median Sales Price']\n",
    "df_home_median_prices_annual.tail()\n"
   ]
  },
  {
   "cell_type": "code",
   "execution_count": null,
   "id": "11ee4770",
   "metadata": {},
   "outputs": [
    {
     "data": {
      "text/html": [
       "<div>\n",
       "<style scoped>\n",
       "    .dataframe tbody tr th:only-of-type {\n",
       "        vertical-align: middle;\n",
       "    }\n",
       "\n",
       "    .dataframe tbody tr th {\n",
       "        vertical-align: top;\n",
       "    }\n",
       "\n",
       "    .dataframe thead th {\n",
       "        text-align: right;\n",
       "    }\n",
       "</style>\n",
       "<table border=\"1\" class=\"dataframe\">\n",
       "  <thead>\n",
       "    <tr style=\"text-align: right;\">\n",
       "      <th></th>\n",
       "      <th>Date</th>\n",
       "      <th>Median Family Income</th>\n",
       "    </tr>\n",
       "  </thead>\n",
       "  <tbody>\n",
       "    <tr>\n",
       "      <th>66</th>\n",
       "      <td>2019</td>\n",
       "      <td>86010.0</td>\n",
       "    </tr>\n",
       "    <tr>\n",
       "      <th>67</th>\n",
       "      <td>2020</td>\n",
       "      <td>84350.0</td>\n",
       "    </tr>\n",
       "    <tr>\n",
       "      <th>68</th>\n",
       "      <td>2021</td>\n",
       "      <td>88590.0</td>\n",
       "    </tr>\n",
       "    <tr>\n",
       "      <th>69</th>\n",
       "      <td>2022</td>\n",
       "      <td>92750.0</td>\n",
       "    </tr>\n",
       "    <tr>\n",
       "      <th>70</th>\n",
       "      <td>2023</td>\n",
       "      <td>100800.0</td>\n",
       "    </tr>\n",
       "  </tbody>\n",
       "</table>\n",
       "</div>"
      ],
      "text/plain": [
       "    Date  Median Family Income\n",
       "66  2019               86010.0\n",
       "67  2020               84350.0\n",
       "68  2021               88590.0\n",
       "69  2022               92750.0\n",
       "70  2023              100800.0"
      ]
     },
     "execution_count": 34,
     "metadata": {},
     "output_type": "execute_result"
    }
   ],
   "source": [
    "# Median Family Income in the United States (MEFAINUSA646N)\n",
    "median_family_income = fred.get_series('MEFAINUSA646N')\n",
    "df_median_family_income =  median_family_income.to_frame().reset_index()\n",
    "df_median_family_income.columns = ['Date', 'Median Family Income']\n",
    "df_median_family_income['Date'] = pd.to_datetime(df_median_family_income['Date'])\n",
    "df_median_family_income.set_index('Date', inplace=True)\n",
    "df_median_family_income.index = df_median_family_income.index.year\n",
    "df_median_family_income.reset_index(inplace=True)\n",
    "df_median_family_income.columns = ['Year', 'Median Family Income']\n",
    "\n",
    "df_median_family_income.tail()"
   ]
  },
  {
   "cell_type": "code",
   "execution_count": null,
   "id": "163ac87d",
   "metadata": {},
   "outputs": [],
   "source": [
    "# Home Price Multiplier\n",
    "\n",
    "median_home_price = 100000\n",
    "median_household_income = 100000\n",
    "\n",
    "price_income_multiplier = median_home_price / median_household_income"
   ]
  },
  {
   "cell_type": "code",
   "execution_count": null,
   "id": "754b4b5a",
   "metadata": {},
   "outputs": [],
   "source": [
    "# Mortgage Payment Burden\n",
    "\n",
    "# Calc monthly P&I using MORTGAGE30US and 80% of median home price\n",
    "# Calc monthly T&I using average homeowner's insurance and property taxes\n",
    "# Annualize the monthly payment and divide by median income"
   ]
  },
  {
   "cell_type": "code",
   "execution_count": null,
   "id": "1463f358",
   "metadata": {},
   "outputs": [],
   "source": [
    "# 30 Year Mortgage Rate\n",
    "\n",
    "mtg30 = fred.get_series('MORTGAGE30US')\n",
    "df_mtg30 = mtg30.to_frame().reset_index()\n",
    "df_mtg30.columns = ['Date', '30yr']\n",
    "\n",
    "df_mtg30.tail()"
   ]
  },
  {
   "cell_type": "code",
   "execution_count": null,
   "id": "8ac9c0da",
   "metadata": {},
   "outputs": [],
   "source": [
    "# Expense to Income Ratios - goods variety\n",
    "\n",
    "#vehicles, food, healthcare, etc..\n",
    "\n",
    "# Disposable Income Share\n",
    "# 100% - (sum of essential expenses)"
   ]
  }
 ],
 "metadata": {
  "kernelspec": {
   "display_name": "gov-data",
   "language": "python",
   "name": "python3"
  },
  "language_info": {
   "codemirror_mode": {
    "name": "ipython",
    "version": 3
   },
   "file_extension": ".py",
   "mimetype": "text/x-python",
   "name": "python",
   "nbconvert_exporter": "python",
   "pygments_lexer": "ipython3",
   "version": "3.13.5"
  }
 },
 "nbformat": 4,
 "nbformat_minor": 5
}
