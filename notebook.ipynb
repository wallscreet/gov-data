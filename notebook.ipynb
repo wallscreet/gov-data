{
 "cells": [
  {
   "cell_type": "markdown",
   "id": "09056c65",
   "metadata": {},
   "source": [
    "## Imports"
   ]
  },
  {
   "cell_type": "code",
   "execution_count": 2,
   "id": "93a7e8aa",
   "metadata": {},
   "outputs": [],
   "source": [
    "import pandas as pd\n",
    "pd.set_option('display.max_columns', None)\n",
    "from fredapi import Fred\n",
    "from dotenv import load_dotenv\n",
    "import os\n",
    "import json\n",
    "from functools import reduce\n",
    "import numpy as np\n",
    "\n",
    "\n",
    "load_dotenv()\n",
    "\n",
    "FRED_API_KEY = os.getenv(\"FRED_API_KEY\")\n",
    "\n",
    "fred = Fred(api_key=FRED_API_KEY)"
   ]
  },
  {
   "cell_type": "markdown",
   "id": "a44fd509",
   "metadata": {},
   "source": [
    "## Helpers"
   ]
  },
  {
   "cell_type": "code",
   "execution_count": null,
   "id": "0f10a30b",
   "metadata": {},
   "outputs": [],
   "source": [
    "def series_to_json(series, df):\n",
    "    \"\"\"\n",
    "    Convert a FRED series to a JSON string.\n",
    "    \"\"\"\n",
    "    path = f\"datasets/fred_{series}.json\"\n",
    "    # If file exists, load and merge\n",
    "    if os.path.exists(path):\n",
    "        # Load existing data\n",
    "        with open(path, \"r\") as f:\n",
    "            existing_data = json.load(f)\n",
    "        df_existing = pd.DataFrame(existing_data)\n",
    "        df_existing[\"Date\"] = pd.to_datetime(df_existing[\"Date\"])\n",
    "\n",
    "        # Append only new rows\n",
    "        df_combined = pd.concat([df_existing, df])\n",
    "        df_combined = df_combined.drop_duplicates(subset=[\"Date\"]).sort_values(\"Date\")\n",
    "    else:\n",
    "        # No file exists, use fresh data\n",
    "        df_combined = df\n",
    "\n",
    "    # Save to JSON\n",
    "    df_combined.to_json(path, orient=\"records\", date_format=\"iso\")\n",
    "\n",
    "    print(f\"Updated data saved to {path}\")\n",
    "\n",
    "\n",
    "def merge_on_year(dfs, how='inner'):\n",
    "    \"\"\"\n",
    "    Merge a list of dataframes on the 'Year' column.\n",
    "\n",
    "    Parameters:\n",
    "    dfs (list): List of pandas DataFrames, each with a 'Year' column.\n",
    "    how (str): Type of merge - 'inner', 'outer', 'left', 'right'. Default 'inner'.\n",
    "\n",
    "    Returns:\n",
    "    DataFrame: Merged dataframe.\n",
    "    \"\"\"\n",
    "    # Safety check: make sure they all have 'Year' column\n",
    "    for i, df in enumerate(dfs):\n",
    "        if 'Year' not in df.columns:\n",
    "            raise ValueError(f\"DataFrame at index {i} is missing 'Year' column.\")\n",
    "\n",
    "    merged_df = reduce(lambda left, right: pd.merge(left, right, on='Year', how=how), dfs)\n",
    "    return merged_df\n",
    "\n",
    "\n",
    "def calc_mtg_pi_payment(principal, annual_rate, years=30):\n",
    "    \"\"\"\n",
    "    Calculate monthly principal & interest payment for a mortgage.\n",
    "\n",
    "    principal: Loan amount\n",
    "    annual_rate: Annual interest rate as a percentage (e.g., 6.5 for 6.5%)\n",
    "    years: Term in years (default 30)\n",
    "    \"\"\"\n",
    "    monthly_rate = (annual_rate / 100) / 12\n",
    "    n_payments = years * 12\n",
    "    \n",
    "    if monthly_rate == 0:\n",
    "        return principal / n_payments  # handle zero interest edge case\n",
    "    \n",
    "    payment = principal * (monthly_rate * (1 + monthly_rate) ** n_payments) / \\\n",
    "              ((1 + monthly_rate) ** n_payments - 1)\n",
    "    return payment\n",
    "\n",
    "\n",
    "def scale_for_inflation(cpi_df: pd.DataFrame, from_year: int, to_year: int, amount: float):\n",
    "    from_year_cpi = cpi_df.loc[cpi_df['Year'] == from_year, 'CPI'].values[0]\n",
    "    to_year_cpi = cpi_df.loc[cpi_df['Year'] == to_year, 'CPI'].values[0]\n",
    "    adjusted_value = (amount * (to_year_cpi / from_year_cpi))\n",
    "    \n",
    "    return round(adjusted_value, 2)\n"
   ]
  },
  {
   "cell_type": "code",
   "execution_count": null,
   "id": "4409e56e",
   "metadata": {},
   "outputs": [],
   "source": [
    "\n"
   ]
  },
  {
   "cell_type": "markdown",
   "id": "b16906f3",
   "metadata": {},
   "source": [
    "## Affordability"
   ]
  },
  {
   "cell_type": "markdown",
   "id": "7ce8bed8",
   "metadata": {},
   "source": [
    "### Producer Price Index by Industry: Premiums for Property and Casualty Insurance: Premiums for Homeowner's Insurance (PCU9241269241262)"
   ]
  },
  {
   "cell_type": "code",
   "execution_count": null,
   "id": "e763d4ce",
   "metadata": {},
   "outputs": [],
   "source": [
    "cpi = fred.get_series('CPIAUCSL')\n",
    "cpi_df = cpi.to_frame().reset_index()\n",
    "cpi_df.columns = ['Date', 'CPI']\n",
    "cpi_df['Date'] = pd.to_datetime(cpi_df['Date'])\n",
    "cpi_df.set_index('Date', inplace=True)\n",
    "cpi_df = cpi_df.resample('YE').max().round(2)\n",
    "cpi_df.index = cpi_df.index.year\n",
    "cpi_df.reset_index(inplace=True)\n",
    "cpi_df.columns = ['Year', 'CPI']\n",
    "\n",
    "cpi_df.tail()"
   ]
  },
  {
   "cell_type": "code",
   "execution_count": null,
   "id": "c74d3517",
   "metadata": {},
   "outputs": [
    {
     "data": {
      "text/html": [
       "<div>\n",
       "<style scoped>\n",
       "    .dataframe tbody tr th:only-of-type {\n",
       "        vertical-align: middle;\n",
       "    }\n",
       "\n",
       "    .dataframe tbody tr th {\n",
       "        vertical-align: top;\n",
       "    }\n",
       "\n",
       "    .dataframe thead th {\n",
       "        text-align: right;\n",
       "    }\n",
       "</style>\n",
       "<table border=\"1\" class=\"dataframe\">\n",
       "  <thead>\n",
       "    <tr style=\"text-align: right;\">\n",
       "      <th></th>\n",
       "      <th>Year</th>\n",
       "      <th>HOI PPI</th>\n",
       "      <th>Est HOI Premium</th>\n",
       "      <th>CPI</th>\n",
       "      <th>Scaled Premium</th>\n",
       "      <th>Median Sales Price</th>\n",
       "      <th>Median Family Income</th>\n",
       "      <th>30yr Mtg Rate</th>\n",
       "      <th>Avg Loan Amount</th>\n",
       "      <th>Mtg PI Monthly</th>\n",
       "      <th>Mtg PI Annual</th>\n",
       "      <th>Mtg PII Annual</th>\n",
       "      <th>Mtg PII Monthly</th>\n",
       "      <th>Mtg Ratio</th>\n",
       "    </tr>\n",
       "  </thead>\n",
       "  <tbody>\n",
       "    <tr>\n",
       "      <th>48</th>\n",
       "      <td>2019</td>\n",
       "      <td>210.225000</td>\n",
       "      <td>2776.866054</td>\n",
       "      <td>258.630</td>\n",
       "      <td>2261.25</td>\n",
       "      <td>320250.0</td>\n",
       "      <td>86010.0</td>\n",
       "      <td>3.936</td>\n",
       "      <td>256200.0</td>\n",
       "      <td>1213.70</td>\n",
       "      <td>14564.40</td>\n",
       "      <td>16825.65</td>\n",
       "      <td>1402.14</td>\n",
       "      <td>0.195624</td>\n",
       "    </tr>\n",
       "    <tr>\n",
       "      <th>49</th>\n",
       "      <td>2020</td>\n",
       "      <td>213.350000</td>\n",
       "      <td>2818.144239</td>\n",
       "      <td>262.045</td>\n",
       "      <td>2325.17</td>\n",
       "      <td>328150.0</td>\n",
       "      <td>84350.0</td>\n",
       "      <td>3.112</td>\n",
       "      <td>262520.0</td>\n",
       "      <td>1122.72</td>\n",
       "      <td>13472.64</td>\n",
       "      <td>15797.81</td>\n",
       "      <td>1316.48</td>\n",
       "      <td>0.187289</td>\n",
       "    </tr>\n",
       "    <tr>\n",
       "      <th>50</th>\n",
       "      <td>2021</td>\n",
       "      <td>216.077167</td>\n",
       "      <td>2854.167436</td>\n",
       "      <td>280.806</td>\n",
       "      <td>2523.49</td>\n",
       "      <td>383000.0</td>\n",
       "      <td>88590.0</td>\n",
       "      <td>2.958</td>\n",
       "      <td>306400.0</td>\n",
       "      <td>1284.86</td>\n",
       "      <td>15418.32</td>\n",
       "      <td>17941.81</td>\n",
       "      <td>1495.15</td>\n",
       "      <td>0.202526</td>\n",
       "    </tr>\n",
       "    <tr>\n",
       "      <th>51</th>\n",
       "      <td>2022</td>\n",
       "      <td>218.355167</td>\n",
       "      <td>2884.257581</td>\n",
       "      <td>298.808</td>\n",
       "      <td>2713.57</td>\n",
       "      <td>432950.0</td>\n",
       "      <td>92750.0</td>\n",
       "      <td>5.344</td>\n",
       "      <td>346360.0</td>\n",
       "      <td>1932.83</td>\n",
       "      <td>23193.96</td>\n",
       "      <td>25907.53</td>\n",
       "      <td>2158.96</td>\n",
       "      <td>0.279326</td>\n",
       "    </tr>\n",
       "    <tr>\n",
       "      <th>52</th>\n",
       "      <td>2023</td>\n",
       "      <td>227.862750</td>\n",
       "      <td>3009.843432</td>\n",
       "      <td>308.735</td>\n",
       "      <td>2925.80</td>\n",
       "      <td>426525.0</td>\n",
       "      <td>100800.0</td>\n",
       "      <td>6.807</td>\n",
       "      <td>341220.0</td>\n",
       "      <td>2226.09</td>\n",
       "      <td>26713.08</td>\n",
       "      <td>29638.88</td>\n",
       "      <td>2469.91</td>\n",
       "      <td>0.294037</td>\n",
       "    </tr>\n",
       "  </tbody>\n",
       "</table>\n",
       "</div>"
      ],
      "text/plain": [
       "    Year     HOI PPI  Est HOI Premium      CPI  Scaled Premium  \\\n",
       "48  2019  210.225000      2776.866054  258.630         2261.25   \n",
       "49  2020  213.350000      2818.144239  262.045         2325.17   \n",
       "50  2021  216.077167      2854.167436  280.806         2523.49   \n",
       "51  2022  218.355167      2884.257581  298.808         2713.57   \n",
       "52  2023  227.862750      3009.843432  308.735         2925.80   \n",
       "\n",
       "    Median Sales Price  Median Family Income  30yr Mtg Rate  Avg Loan Amount  \\\n",
       "48            320250.0               86010.0          3.936         256200.0   \n",
       "49            328150.0               84350.0          3.112         262520.0   \n",
       "50            383000.0               88590.0          2.958         306400.0   \n",
       "51            432950.0               92750.0          5.344         346360.0   \n",
       "52            426525.0              100800.0          6.807         341220.0   \n",
       "\n",
       "    Mtg PI Monthly  Mtg PI Annual  Mtg PII Annual  Mtg PII Monthly  Mtg Ratio  \n",
       "48         1213.70       14564.40        16825.65          1402.14   0.195624  \n",
       "49         1122.72       13472.64        15797.81          1316.48   0.187289  \n",
       "50         1284.86       15418.32        17941.81          1495.15   0.202526  \n",
       "51         1932.83       23193.96        25907.53          2158.96   0.279326  \n",
       "52         2226.09       26713.08        29638.88          2469.91   0.294037  "
      ]
     },
     "execution_count": 6,
     "metadata": {},
     "output_type": "execute_result"
    }
   ],
   "source": [
    "def get_home_affordability():\n",
    "    hoi_ref_premium = 3303\n",
    "    hoi_ref_year = 2024\n",
    "\n",
    "    #CPI table - resampled to annual on mean\n",
    "    cpi = fred.get_series('CPIAUCSL')\n",
    "    cpi_df = cpi.to_frame().reset_index()\n",
    "    cpi_df.columns = ['Date', 'CPI']\n",
    "    cpi_df['Date'] = pd.to_datetime(cpi_df['Date'])\n",
    "    cpi_df.set_index('Date', inplace=True)\n",
    "    cpi_df = cpi_df.resample('YE').max()\n",
    "    cpi_df.index = cpi_df.index.year\n",
    "    cpi_df.reset_index(inplace=True)\n",
    "    cpi_df.columns = ['Year', 'CPI']\n",
    "\n",
    "    #HOI PPI table - resampled to annual on mean\n",
    "    hoi_series = fred.get_series('PCU9241269241262')\n",
    "    hoi_df = hoi_series.to_frame().reset_index()\n",
    "    hoi_df.columns = ['Date', 'HOI PPI']\n",
    "    hoi_df['Date'] = pd.to_datetime(hoi_df['Date'])\n",
    "    hoi_df.set_index('Date', inplace=True)\n",
    "    hoi_df = hoi_df.resample('YE').mean()\n",
    "    hoi_df.index = hoi_df.index.year\n",
    "    hoi_df.reset_index(inplace=True)\n",
    "    hoi_df.columns = ['Year', 'HOI PPI']\n",
    "\n",
    "    #Estimate HOI premiums based on reference year adjusted by PPI\n",
    "    hoi_ref_cpi = hoi_df.loc[hoi_df['Year'] == hoi_ref_year, 'HOI PPI'].values[0]\n",
    "    hoi_df['Est HOI Premium'] = (hoi_df['HOI PPI'] * (hoi_ref_premium / hoi_ref_cpi))\n",
    "\n",
    "    #Merge the datasets\n",
    "    merged_hoi_df = merge_on_year([hoi_df, cpi_df], how='outer')\n",
    "\n",
    "    # anchor year where both PPI + Premium exist\n",
    "    anchor_year = 1998\n",
    "    premium_anchor = merged_hoi_df.loc[merged_hoi_df[\"Year\"] == anchor_year, \"Est HOI Premium\"].values[0]\n",
    "    cpi_anchor = merged_hoi_df.loc[merged_hoi_df[\"Year\"] == anchor_year, \"CPI\"].values[0]\n",
    "\n",
    "    # fill missing premiums before PPI begins\n",
    "    mask = merged_hoi_df[\"Year\"] < anchor_year\n",
    "    merged_hoi_df.loc[mask, \"Est HOI Premium\"] = (\n",
    "        premium_anchor * (merged_hoi_df.loc[mask, \"CPI\"] / cpi_anchor)\n",
    "    )\n",
    "    merged_hoi_df.loc[mask, \"HOI PPI\"] = np.nan\n",
    "    # Add scaled premiums\n",
    "    merged_hoi_df['Scaled Premium'] = merged_hoi_df.apply(lambda row: scale_for_inflation(cpi_df, 2024, row['Year'], row['Est HOI Premium']), axis=1)\n",
    "\n",
    "    #Median Home Prices DF - resampled to annual as mean\n",
    "    median_home_prices = fred.get_series('MSPUS')\n",
    "    df_home_median_prices = median_home_prices.to_frame().reset_index()\n",
    "    df_home_median_prices.columns = ['Date', 'Median Sales Price']\n",
    "    df_home_median_prices['Date'] = pd.to_datetime(df_home_median_prices['Date'])\n",
    "    df_home_median_prices.set_index('Date', inplace=True)\n",
    "    df_home_median_prices_annual = df_home_median_prices.resample('YE').mean()\n",
    "    df_home_median_prices_annual.index = df_home_median_prices_annual.index.year\n",
    "    df_home_median_prices_annual.reset_index(inplace=True)\n",
    "    df_home_median_prices_annual.columns = ['Year', 'Median Sales Price']\n",
    "\n",
    "    #Median Family Income - annual series\n",
    "    median_family_income = fred.get_series('MEFAINUSA646N')\n",
    "    df_median_family_income =  median_family_income.to_frame().reset_index()\n",
    "    df_median_family_income.columns = ['Date', 'Median Family Income']\n",
    "    df_median_family_income['Date'] = pd.to_datetime(df_median_family_income['Date'])\n",
    "    df_median_family_income.set_index('Date', inplace=True)\n",
    "    df_median_family_income.index = df_median_family_income.index.year\n",
    "    df_median_family_income.reset_index(inplace=True)\n",
    "    df_median_family_income.columns = ['Year', 'Median Family Income']\n",
    "\n",
    "    #30Yr Mortgage Rates - resampled to annual as mean\n",
    "    mtg30 = fred.get_series('MORTGAGE30US')\n",
    "    df_mtg30 = mtg30.to_frame().reset_index()\n",
    "    df_mtg30.columns = ['Date', '30yr Mtg Rate']\n",
    "    df_mtg30['Date'] = pd.to_datetime(df_mtg30['Date'])\n",
    "    df_mtg30.set_index('Date', inplace=True)\n",
    "    df_mtg30 = df_mtg30.resample('YE').mean()\n",
    "    df_mtg30.index = df_mtg30.index.year\n",
    "    df_mtg30.reset_index(inplace=True)\n",
    "    df_mtg30.columns = ['Year', '30yr Mtg Rate']\n",
    "    df_mtg30['30yr Mtg Rate'] = round(df_mtg30['30yr Mtg Rate'], 3)\n",
    "\n",
    "    #Merge datasets and add customer features\n",
    "    cdf = merge_on_year([merged_hoi_df, df_home_median_prices_annual, df_median_family_income, df_mtg30])\n",
    "    cdf['Avg Loan Amount'] = cdf['Median Sales Price'] * .8\n",
    "    cdf['Mtg PI Monthly'] = cdf.apply(lambda row: calc_mtg_pi_payment(row['Avg Loan Amount'], row['30yr Mtg Rate']), axis=1).round(2)\n",
    "    cdf['Mtg PI Annual'] = cdf['Mtg PI Monthly'] * 12\n",
    "    cdf['Mtg PII Annual'] = cdf['Mtg PI Annual'] + cdf['Scaled Premium']\n",
    "    cdf['Mtg PII Monthly'] = round((cdf['Mtg PI Annual'] / 12) + (cdf['Scaled Premium'] / 12), 2)\n",
    "    cdf['Mtg Ratio'] = cdf['Mtg PII Annual'] / cdf['Median Family Income']\n",
    "\n",
    "    return cdf\n",
    "\n",
    "cdf = get_home_affordability()\n",
    "cdf.tail()"
   ]
  },
  {
   "cell_type": "code",
   "execution_count": null,
   "id": "8e0442f4",
   "metadata": {},
   "outputs": [],
   "source": [
    "value = scale_for_inflation(cpi_df, 1976, 2025, 86.88)\n",
    "value"
   ]
  },
  {
   "cell_type": "markdown",
   "id": "9ea7e817",
   "metadata": {},
   "source": [
    "### Median Home Prices"
   ]
  },
  {
   "cell_type": "code",
   "execution_count": null,
   "id": "987efde0",
   "metadata": {},
   "outputs": [],
   "source": [
    "# Median Home Price\n",
    "# Fred series MSPUS\n",
    "median_home_prices = fred.get_series('MSPUS')\n",
    "df_home_median_prices = median_home_prices.to_frame().reset_index()\n",
    "df_home_median_prices.columns = ['Date', 'Median Sales Price']\n",
    "df_home_median_prices['Date'] = pd.to_datetime(df_home_median_prices['Date'])\n",
    "df_home_median_prices.set_index('Date', inplace=True)\n",
    "\n",
    "df_home_median_prices_annual = df_home_median_prices.resample('YE').mean()\n",
    "df_home_median_prices_annual.index = df_home_median_prices_annual.index.year\n",
    "df_home_median_prices_annual.reset_index(inplace=True)\n",
    "df_home_median_prices_annual.columns = ['Year', 'Median Sales Price']\n",
    "df_home_median_prices_annual.tail()\n"
   ]
  },
  {
   "cell_type": "markdown",
   "id": "19b8294c",
   "metadata": {},
   "source": [
    "### Median Family Income"
   ]
  },
  {
   "cell_type": "code",
   "execution_count": null,
   "id": "ab10a1a8",
   "metadata": {},
   "outputs": [],
   "source": [
    "# Median Family Income in the United States (MEFAINUSA646N)\n",
    "median_family_income = fred.get_series('MEFAINUSA646N')\n",
    "df_median_family_income =  median_family_income.to_frame().reset_index()\n",
    "df_median_family_income.columns = ['Date', 'Median Family Income']\n",
    "df_median_family_income['Date'] = pd.to_datetime(df_median_family_income['Date'])\n",
    "df_median_family_income.set_index('Date', inplace=True)\n",
    "df_median_family_income.index = df_median_family_income.index.year\n",
    "df_median_family_income.reset_index(inplace=True)\n",
    "df_median_family_income.columns = ['Year', 'Median Family Income']"
   ]
  },
  {
   "cell_type": "markdown",
   "id": "51f5a25d",
   "metadata": {},
   "source": [
    "### Mortgage Rate - 30 year"
   ]
  },
  {
   "cell_type": "code",
   "execution_count": null,
   "id": "1463f358",
   "metadata": {},
   "outputs": [],
   "source": [
    "# 30 Year Mortgage Rate\n",
    "\n",
    "mtg30 = fred.get_series('MORTGAGE30US')\n",
    "df_mtg30 = mtg30.to_frame().reset_index()\n",
    "df_mtg30.columns = ['Date', '30yr Mtg Rate']\n",
    "df_mtg30['Date'] = pd.to_datetime(df_mtg30['Date'])\n",
    "df_mtg30.set_index('Date', inplace=True)\n",
    "df_mtg30 = df_mtg30.resample('YE').mean()\n",
    "df_mtg30.index = df_mtg30.index.year\n",
    "df_mtg30.reset_index(inplace=True)\n",
    "df_mtg30.columns = ['Year', '30yr Mtg Rate']\n",
    "df_mtg30['30yr Mtg Rate'] = round(df_mtg30['30yr Mtg Rate'], 3)\n",
    "\n",
    "df_mtg30.tail()"
   ]
  },
  {
   "cell_type": "code",
   "execution_count": null,
   "id": "c708fbaf",
   "metadata": {},
   "outputs": [],
   "source": [
    "cdf = merge_on_year([merged_hoi_df, df_home_median_prices_annual, df_median_family_income, df_mtg30])\n",
    "cdf['Avg Loan Amount'] = cdf['Median Sales Price'] * .8\n",
    "cdf['Mtg PI Annual'] = cdf.apply(lambda row: calc_mtg_pi_payment(row['Avg Loan Amount'] * 12, row['30yr Mtg Rate']), axis=1).round(2)\n",
    "cdf['Mtg PII Annual'] = cdf['Mtg PI Annual'] + cdf['Scaled Premium']\n",
    "cdf['Mtg PII Monthly'] = round((cdf['Mtg PI Annual'] / 12) + (cdf['Scaled Premium'] / 12), 2)\n",
    "cdf['Mtg Ratio'] = cdf['Mtg PII Annual'] / cdf['Median Family Income']\n",
    "cdf.tail(50)"
   ]
  },
  {
   "cell_type": "markdown",
   "id": "a95f40e5",
   "metadata": {},
   "source": [
    "### US Population"
   ]
  },
  {
   "cell_type": "code",
   "execution_count": null,
   "id": "a5a25cda",
   "metadata": {},
   "outputs": [],
   "source": [
    "pop = fred.get_series('POPTHM')\n",
    "pop_df = pop.to_frame().reset_index()\n",
    "pop_df.columns = ['Date', 'US Population']\n",
    "pop_df['Date'] = pd.to_datetime(pop_df['Date'])\n",
    "pop_df.set_index('Date', inplace=True)\n",
    "\n",
    "pop_df = pop_df.resample('YE').max().round(0)\n",
    "pop_df.index = pop_df.index.year\n",
    "pop_df.reset_index(inplace=True)\n",
    "pop_df.columns = ['Year', 'US Population']\n",
    "pop_df['US Population'] = pop_df['US Population'] * 1000\n",
    "\n",
    "pop_df.tail()"
   ]
  },
  {
   "cell_type": "markdown",
   "id": "ae8d26c4",
   "metadata": {},
   "source": [
    "### Median Personal Income"
   ]
  },
  {
   "cell_type": "code",
   "execution_count": null,
   "id": "3f521328",
   "metadata": {},
   "outputs": [],
   "source": [
    "# Median Personal Income In the United States (MEPAINUSA646N)\n",
    "median_pers_income = fred.get_series('MEPAINUSA646N')\n",
    "df_median_pers_income = median_pers_income.to_frame().reset_index()\n",
    "df_median_pers_income.columns = ['Date', 'Median Personal Income']\n",
    "df_median_pers_income['Date'] = pd.to_datetime(df_median_pers_income['Date'])\n",
    "df_median_pers_income.set_index('Date', inplace=True)\n",
    "df_median_pers_income.index = df_median_pers_income.index.year\n",
    "df_median_pers_income.reset_index(inplace=True)\n",
    "df_median_pers_income.columns = ['Year', 'Median Personal Income']\n",
    "\n",
    "df_median_pers_income.tail()"
   ]
  },
  {
   "cell_type": "code",
   "execution_count": null,
   "id": "754b4b5a",
   "metadata": {},
   "outputs": [],
   "source": [
    "# Mortgage Payment Burden\n",
    "\n",
    "# Calc monthly P&I using MORTGAGE30US and 80% of median home price\n",
    "# Calc monthly T&I using average homeowner's insurance and property taxes\n",
    "# Annualize the monthly payment and divide by median income"
   ]
  },
  {
   "cell_type": "markdown",
   "id": "4e66469b",
   "metadata": {},
   "source": [
    "### CPI (CPIAUCSL)"
   ]
  },
  {
   "cell_type": "code",
   "execution_count": null,
   "id": "f4dcd525",
   "metadata": {},
   "outputs": [],
   "source": [
    "cpi = fred.get_series('CPIAUCSL')\n",
    "cpi_df = cpi.to_frame().reset_index()\n",
    "cpi_df.columns = ['Date', 'CPI']\n",
    "cpi_df['Date'] = pd.to_datetime(cpi_df['Date'])\n",
    "cpi_df.set_index('Date', inplace=True)\n",
    "cpi_df = cpi_df.resample('YE').max()\n",
    "cpi_df.index = cpi_df.index.year\n",
    "cpi_df.reset_index(inplace=True)\n",
    "cpi_df.columns = ['Year', 'CPI']\n",
    "\n",
    "cpi_df.tail()"
   ]
  },
  {
   "cell_type": "markdown",
   "id": "5de6c28a",
   "metadata": {},
   "source": [
    "### Personal Consumption Expenditures (PCE)"
   ]
  },
  {
   "cell_type": "code",
   "execution_count": null,
   "id": "6f7ef4ec",
   "metadata": {},
   "outputs": [],
   "source": [
    "pce = fred.get_series('PCE')\n",
    "pce_df = pce.to_frame().reset_index()\n",
    "pce_df.columns = ['Date', 'PCE']\n",
    "pce_df['Date'] = pd.to_datetime(pce_df['Date'])\n",
    "pce_df.set_index('Date', inplace=True)\n",
    "pce_df = round(pce_df.resample('YE').mean(), 2)\n",
    "pce_df.index = pce_df.index.year\n",
    "pce_df.reset_index(inplace=True)\n",
    "pce_df.columns = ['Year', 'PCE']\n",
    "pce_df['PCE'] = pce_df['PCE'] * 1000000000\n",
    "\n",
    "\n",
    "pce_df.tail()"
   ]
  },
  {
   "cell_type": "markdown",
   "id": "9a0f24c0",
   "metadata": {},
   "source": [
    "### Expenditures: Household Operations: All Consumer Units (CXUHHOPERLB0101M)"
   ]
  },
  {
   "cell_type": "code",
   "execution_count": null,
   "id": "eb314eb9",
   "metadata": {},
   "outputs": [],
   "source": [
    "hh_spend = fred.get_series('CXUHHOPERLB0101M')\n",
    "hh_spend_df = hh_spend.to_frame().reset_index()\n",
    "hh_spend_df.columns = ['Date', 'HH Spend Annual']\n",
    "hh_spend_df['Date'] = pd.to_datetime(hh_spend_df['Date'])\n",
    "hh_spend_df.set_index('Date', inplace=True)\n",
    "hh_spend_df.index = hh_spend_df.index.year\n",
    "hh_spend_df.reset_index(inplace=True)\n",
    "hh_spend_df.columns = ['Year', 'HH Spend Annual']\n",
    "\n",
    "hh_spend_df.tail()"
   ]
  },
  {
   "cell_type": "markdown",
   "id": "48831c4d",
   "metadata": {},
   "source": [
    "### Expenditures: Vehicle Insurance: All Consumer Units (CXU500110LB0101M)"
   ]
  },
  {
   "cell_type": "code",
   "execution_count": null,
   "id": "4e621082",
   "metadata": {},
   "outputs": [],
   "source": [
    "vehicle_ins = fred.get_series('CXU500110LB0101M')\n",
    "vehicle_ins_df = vehicle_ins.to_frame().reset_index()\n",
    "vehicle_ins_df.columns = ['Date', 'Vehilcle Ins Annual']\n",
    "vehicle_ins_df['Date'] = pd.to_datetime(vehicle_ins_df['Date'])\n",
    "vehicle_ins_df.set_index('Date', inplace=True)\n",
    "vehicle_ins_df.index = vehicle_ins_df.index.year\n",
    "vehicle_ins_df.reset_index(inplace=True)\n",
    "vehicle_ins_df.columns = ['Year', 'Vehicle Ins Annual']\n",
    "\n",
    "vehicle_ins_df.tail()"
   ]
  },
  {
   "cell_type": "markdown",
   "id": "fb5e401d",
   "metadata": {},
   "source": [
    "### Total Households (TTLH)"
   ]
  },
  {
   "cell_type": "code",
   "execution_count": null,
   "id": "07cb4209",
   "metadata": {},
   "outputs": [],
   "source": [
    "hh = fred.get_series(\"TTLHH\")\n",
    "hh_df = hh.to_frame().reset_index()\n",
    "hh_df.columns = ['Date', 'US Households']\n",
    "hh_df['Date'] = pd.to_datetime(hh_df['Date'])\n",
    "hh_df.set_index('Date', inplace=True)\n",
    "hh_df.index = hh_df.index.year\n",
    "hh_df.reset_index(inplace=True)\n",
    "hh_df.columns = ['Year', 'US Households']\n",
    "hh_df['US Households'] = hh_df['US Households'] * 1000\n",
    "\n",
    "hh_df.tail()"
   ]
  },
  {
   "cell_type": "markdown",
   "id": "3fcc4381",
   "metadata": {},
   "source": [
    "### PCE Services: Healthcare (DHLCRC1Q027SBEA)"
   ]
  },
  {
   "cell_type": "code",
   "execution_count": null,
   "id": "cdd7a24b",
   "metadata": {},
   "outputs": [],
   "source": [
    "pce_healthcare = fred.get_series(\"DHLCRC1Q027SBEA\")\n",
    "pce_healthcare_df = pce_healthcare.to_frame().reset_index()\n",
    "pce_healthcare_df.columns = ['Date', 'PCE Healthcare']\n",
    "pce_healthcare_df['Date'] = pd.to_datetime(pce_healthcare_df['Date'])\n",
    "pce_healthcare_df.set_index('Date', inplace=True)\n",
    "pce_healthcare_df = round(pce_healthcare_df.resample('YE').mean(), 2)\n",
    "pce_healthcare_df.index = pce_healthcare_df.index.year\n",
    "pce_healthcare_df.reset_index(inplace=True)\n",
    "pce_healthcare_df.columns = ['Year', 'PCE Healthcare']\n",
    "pce_healthcare_df['PCE Healthcare'] = pce_healthcare_df['PCE Healthcare'] * 1000000000\n",
    "\n",
    "pce_healthcare_df.tail()"
   ]
  },
  {
   "cell_type": "markdown",
   "id": "8826ed72",
   "metadata": {},
   "source": [
    "### CPI Used Cars and Trucks (CUSR0000SETA02)"
   ]
  },
  {
   "cell_type": "code",
   "execution_count": null,
   "id": "029ec6bd",
   "metadata": {},
   "outputs": [],
   "source": [
    "auto_cpi = fred.get_series('CUSR0000SETA02')\n",
    "auto_cpi_df = auto_cpi.to_frame().reset_index()\n",
    "auto_cpi_df.columns = ['Date', 'Used Auto CPI']\n",
    "auto_cpi_df['Date'] = pd.to_datetime(auto_cpi_df['Date'])\n",
    "auto_cpi_df.set_index('Date', inplace=True)\n",
    "auto_cpi_df = auto_cpi_df.resample('YE').mean()\n",
    "auto_cpi_df.index = auto_cpi_df.index.year\n",
    "auto_cpi_df.reset_index(inplace=True)\n",
    "auto_cpi_df.columns = ['Year', 'Used Auto CPI']\n"
   ]
  },
  {
   "cell_type": "code",
   "execution_count": null,
   "id": "0b3c1250",
   "metadata": {},
   "outputs": [],
   "source": [
    "used_car_ref_year = 2024\n",
    "used_car_ref_price = 28472\n",
    "\n",
    "ref_cpi = auto_cpi_df.loc[auto_cpi_df['Year'] == used_car_ref_year, 'Used Auto CPI'].values[0]\n",
    "auto_cpi_df['Est Avg Used Car Price'] = round((auto_cpi_df['Used Auto CPI'] * (used_car_ref_price / ref_cpi)),2)\n",
    "auto_cpi_df.tail()\n"
   ]
  },
  {
   "cell_type": "markdown",
   "id": "4e336886",
   "metadata": {},
   "source": [
    "### CPI New Cars and Trucks (CUUR0000SETA01)"
   ]
  },
  {
   "cell_type": "code",
   "execution_count": null,
   "id": "d7b36140",
   "metadata": {},
   "outputs": [],
   "source": [
    "new_auto_cpi = fred.get_series('CUSR0000SETA01')\n",
    "new_auto_cpi_df = new_auto_cpi.to_frame().reset_index()\n",
    "new_auto_cpi_df.columns = ['Date', 'New Auto CPI']\n",
    "new_auto_cpi_df['Date'] = pd.to_datetime(new_auto_cpi_df['Date'])\n",
    "new_auto_cpi_df.set_index('Date', inplace=True)\n",
    "new_auto_cpi_df = new_auto_cpi_df.resample('YE').mean()\n",
    "new_auto_cpi_df.index = new_auto_cpi_df.index.year\n",
    "new_auto_cpi_df.reset_index(inplace=True)\n",
    "new_auto_cpi_df.columns = ['Year', 'New Auto CPI']"
   ]
  },
  {
   "cell_type": "code",
   "execution_count": null,
   "id": "f71fd3b0",
   "metadata": {},
   "outputs": [],
   "source": [
    "new_car_ref_year = 2024\n",
    "new_car_ref_price = 48397\n",
    "\n",
    "new_car_ref_cpi = new_auto_cpi_df.loc[new_auto_cpi_df['Year'] == new_car_ref_year, 'New Auto CPI'].values[0]\n",
    "new_auto_cpi_df['Est Avg New Car Price'] = round((new_auto_cpi_df['New Auto CPI'] * (new_car_ref_price / ref_cpi)),2)\n",
    "new_auto_cpi_df.tail()"
   ]
  },
  {
   "cell_type": "markdown",
   "id": "7c62cbf6",
   "metadata": {},
   "source": [
    "### Real Disposable Personal Income (DSPI)"
   ]
  },
  {
   "cell_type": "code",
   "execution_count": null,
   "id": "6e63f122",
   "metadata": {},
   "outputs": [],
   "source": [
    "rdpi = fred.get_series('DSPI')\n",
    "rdpi_df = rdpi.to_frame().reset_index()\n",
    "rdpi_df.columns = ['Date', 'RDPI']\n",
    "rdpi_df['Date'] = pd.to_datetime(rdpi_df['Date'])\n",
    "rdpi_df.set_index('Date', inplace=True)\n",
    "rdpi_df = rdpi_df.resample('YE').max()\n",
    "rdpi_df.index = rdpi_df.index.year\n",
    "rdpi_df.reset_index(inplace=True)\n",
    "rdpi_df.columns = ['Year', 'RDPI']\n",
    "rdpi_df['RDPI'] = rdpi_df['RDPI'] * 1000000000\n",
    "\n",
    "rdpi_df.tail()"
   ]
  },
  {
   "cell_type": "markdown",
   "id": "5e3215e7",
   "metadata": {},
   "source": [
    "### MERGED Affordability DF - ANNUAL "
   ]
  },
  {
   "cell_type": "code",
   "execution_count": null,
   "id": "3f483ce4",
   "metadata": {},
   "outputs": [],
   "source": [
    "dfs = [df_home_median_prices_annual, df_median_family_income, rdpi_df, cpi_df, pce_df, hh_spend_df, vehicle_ins_df, df_mtg30, pop_df, hh_df, pce_healthcare_df]\n",
    "df_merged = merge_on_year(dfs)\n",
    "df_merged['Household Persons'] = round((df_merged['US Population'] / df_merged['US Households']), 2)\n",
    "df_merged['RDPI Per Capita'] = round((df_merged['RDPI'] / df_merged['US Population']), 2)\n",
    "#df_merged['PCE Indv Monthly'] = round(((df_merged['PCE'] / df_merged['US Population']) / 12),2)\n",
    "#df_merged['PCE HH Monthly'] = round(((df_merged['PCE'] / df_merged['US Households']) / 12),2)\n",
    "df_merged['PCE HH Healthcare Monthly'] = round((df_merged['PCE Healthcare'] / df_merged['US Households']) / 12,2)\n",
    "#df_merged['PCE Indv Healthcare Monthly'] = round((df_merged['PCE Healthcare'] / df_merged['US Population']) / 12,2)\n",
    "#df_merged['Home Price Family Income Multiplier'] = df_merged['Median Sales Price'] / df_merged['Median Family Income']\n",
    "df_merged['Income Home Price Ratio'] = df_merged['Median Family Income'] / df_merged['Median Sales Price']\n",
    "df_merged['Loan Amount'] = df_merged['Median Sales Price'] * .8\n",
    "df_merged['Mtg P&I Annual'] = df_merged.apply(lambda row: calc_mtg_pi_payment(row['Loan Amount'] * 12, row['30yr Mtg Rate']), axis=1).round(2)\n",
    "df_merged['Mtg to Fam Income Ratio'] = df_merged['Mtg P&I Annual'] / df_merged['Median Family Income']\n",
    "#df_merged['Mtg to Pers Income Ratio'] = df_merged['Mtg P&I Annual'] / df_merged['Median Personal Income']\n",
    "df_merged = df_merged.dropna(axis=0)\n",
    "df_merged.tail(50)"
   ]
  },
  {
   "cell_type": "code",
   "execution_count": null,
   "id": "ec996079",
   "metadata": {},
   "outputs": [],
   "source": [
    "scale_for_inflation(cpi_df=cpi_df, from_year=1986, to_year=2025, amount=130000)"
   ]
  },
  {
   "cell_type": "code",
   "execution_count": null,
   "id": "8ac9c0da",
   "metadata": {},
   "outputs": [],
   "source": [
    "# Expense to Income Ratios - goods variety\n",
    "\n",
    "#vehicles, food, healthcare, etc..\n",
    "\n",
    "# Disposable Income Share\n",
    "# 100% - (sum of essential expenses)"
   ]
  }
 ],
 "metadata": {
  "kernelspec": {
   "display_name": "gov-data",
   "language": "python",
   "name": "python3"
  },
  "language_info": {
   "codemirror_mode": {
    "name": "ipython",
    "version": 3
   },
   "file_extension": ".py",
   "mimetype": "text/x-python",
   "name": "python",
   "nbconvert_exporter": "python",
   "pygments_lexer": "ipython3",
   "version": "3.13.5"
  }
 },
 "nbformat": 4,
 "nbformat_minor": 5
}
